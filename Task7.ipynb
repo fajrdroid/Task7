{
 "cells": [
  {
   "cell_type": "code",
   "execution_count": 1,
   "id": "f82c8516-33d4-4051-8f01-f8609988e5b1",
   "metadata": {},
   "outputs": [
    {
     "name": "stdout",
     "output_type": "stream",
     "text": [
      "database created successfully\n"
     ]
    }
   ],
   "source": [
    "#imporing \n",
    "import sqlite3\n",
    "\n",
    "# Connect to ( create) the database\n",
    "conn = sqlite3.connect('sales_data.db')\n",
    "cursor = conn.cursor()\n",
    "\n",
    "# Create the sales table\n",
    "cursor.execute('''\n",
    "CREATE TABLE IF NOT EXISTS  sales_data (\n",
    "    id INTEGER PRIMARY KEY AUTOINCREMENT,\n",
    "    product TEXT NOT NULL,\n",
    "    quantity INTEGER NOT NULL,\n",
    "    price REAL NOT NULL,\n",
    "    sale_date TEXT NOT NULL\n",
    ")\n",
    "''')\n",
    "\n",
    "sample_data = [\n",
    "    ('Laptop', 2, 999.99, '2025-04-01'),\n",
    "    ('Smartphone', 5, 499.50, '2025-04-03'),\n",
    "    ('Headphones', 10, 79.99, '2025-04-05'),\n",
    "    ('Monitor', 3, 199.99, '2025-04-07')\n",
    "]\n",
    "\n",
    "cursor.execute(\"DELETE FROM sales_data\")\n",
    "\n",
    "cursor.executemany('''\n",
    "INSERT INTO sales_data (product, quantity, price, sale_date)\n",
    "VALUES (?, ?, ?, ?)\n",
    "''', sample_data)\n",
    "\n",
    "conn.commit()\n",
    "conn.close()\n",
    "print(\"database created successfully\")"
   ]
  },
  {
   "cell_type": "code",
   "execution_count": 3,
   "id": "f7a887b3-b8ed-4683-ac06-6eddaf6eebc9",
   "metadata": {},
   "outputs": [
    {
     "name": "stdout",
     "output_type": "stream",
     "text": [
      "Laptop\n",
      "Smartphone\n",
      "Headphones\n",
      "Monitor\n"
     ]
    }
   ],
   "source": [
    "# printing products of the databse\n",
    "conn = sqlite3.connect('sales_data.db')\n",
    "cursor = conn.cursor()\n",
    "\n",
    "cursor.execute (\"SELECT product FROM sales_data\")\n",
    "\n",
    "rows = cursor.fetchall()\n",
    "if rows:    \n",
    "    for row in rows:\n",
    "        print(row[0])    \n",
    "else:\n",
    "    print(\"No data found\")\n",
    "\n",
    "conn.close()"
   ]
  },
  {
   "cell_type": "code",
   "execution_count": 5,
   "id": "5b668a93-fdb8-4c26-a817-b46bc9e5e57e",
   "metadata": {},
   "outputs": [
    {
     "name": "stdout",
     "output_type": "stream",
     "text": [
      "Total quantity sold 20\n"
     ]
    }
   ],
   "source": [
    "#printing sum of quantity\n",
    "conn = sqlite3.connect('sales_data.db')\n",
    "cursor = conn.cursor()\n",
    "\n",
    "cursor.execute(\"SELECT SUM(quantity) as total_quantity from sales_data\")\n",
    "\n",
    "rows=cursor.fetchall()\n",
    "for row in rows:\n",
    "    print(\"Total quantity sold\",row[0])\n",
    "\n",
    "conn.close()"
   ]
  },
  {
   "cell_type": "code",
   "execution_count": 11,
   "id": "5ca68b31-f7d7-430a-aed5-34a36eb40a4e",
   "metadata": {},
   "outputs": [
    {
     "name": "stdout",
     "output_type": "stream",
     "text": [
      "Total revenue 799.9\n",
      "Total revenue 1999.98\n",
      "Total revenue 599.97\n",
      "Total revenue 2497.5\n"
     ]
    }
   ],
   "source": [
    "# printing total revenue \n",
    "conn = sqlite3.connect('sales_data.db')\n",
    "cursor = conn.cursor()\n",
    "\n",
    "cursor.execute(\"SELECT SUM(quantity * price) as revenue from sales_data GROUP by product\")\n",
    "\n",
    "rows=cursor.fetchall()\n",
    "for row in rows:\n",
    "    print(\"Total revenue\",row[0])\n",
    "\n",
    "conn.close()"
   ]
  },
  {
   "cell_type": "code",
   "execution_count": 41,
   "id": "c6fb6030-2cbb-4ddb-a4f1-5bd93196f9fe",
   "metadata": {},
   "outputs": [],
   "source": [
    "import pandas as pd\n",
    "import matplotlib.pyplot as plt"
   ]
  },
  {
   "cell_type": "code",
   "execution_count": 25,
   "id": "928c86fc-e24b-4560-96ff-6220f0e251a9",
   "metadata": {},
   "outputs": [
    {
     "name": "stdout",
     "output_type": "stream",
     "text": [
      "   id     product  quantity   price   sale_date\n",
      "0  65      Laptop         2  999.99  2025-04-01\n",
      "1  66  Smartphone         5  499.50  2025-04-03\n",
      "2  67  Headphones        10   79.99  2025-04-05\n",
      "3  68     Monitor         3  199.99  2025-04-07\n"
     ]
    }
   ],
   "source": [
    "# link the data into python and print as a dataframe\n",
    "conn = sqlite3.connect('sales_data.db')\n",
    "df=pd.read_sql_query(\"SELECT * FROM sales_data\",conn)\n",
    "print(df)\n",
    "conn.close()"
   ]
  },
  {
   "cell_type": "code",
   "execution_count": 63,
   "id": "3343128f-8d6c-4efe-aacb-4ecf395e873c",
   "metadata": {},
   "outputs": [
    {
     "data": {
      "image/png": "[encoded data removed]",
      "text/plain": [
       "<Figure size 640x480 with 1 Axes>"
      ]
     },
     "metadata": {},
     "output_type": "display_data"
    },
    {
     "data": {
      "text/plain": [
       "<Figure size 640x480 with 0 Axes>"
      ]
     },
     "metadata": {},
     "output_type": "display_data"
    }
   ],
   "source": [
    "#printing a bar chart \n",
    "df.plot(kind='bar', x='product', y='price',legend=False,color='lightgreen')\n",
    "plt.ylabel('Revenue')\n",
    "plt.title('Revenue by product')\n",
    "plt.show()\n",
    "plt.savefig(\"sales_chart.png\")"
   ]
  }
 ],
 "metadata": {
  "kernelspec": {
   "display_name": "Python 3 (ipykernel)",
   "language": "python",
   "name": "python3"
  },
  "language_info": {
   "codemirror_mode": {
    "name": "ipython",
    "version": 3
   },
   "file_extension": ".py",
   "mimetype": "text/x-python",
   "name": "python",
   "nbconvert_exporter": "python",
   "pygments_lexer": "ipython3",
   "version": "3.12.4"
  }
 },
 "nbformat": 4,
 "nbformat_minor": 5
}
